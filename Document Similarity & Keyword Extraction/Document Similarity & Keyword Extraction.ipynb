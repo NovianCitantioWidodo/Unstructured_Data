{
 "cells": [
  {
   "cell_type": "code",
   "execution_count": 1,
   "id": "629b5856",
   "metadata": {},
   "outputs": [
    {
     "name": "stderr",
     "output_type": "stream",
     "text": [
      "C:\\Users\\Lenovo\\Anaconda3\\envs\\Unstructure_data\\lib\\importlib\\_bootstrap.py:219: RuntimeWarning: numpy.ufunc size changed, may indicate binary incompatibility. Expected 192 from C header, got 216 from PyObject\n",
      "  return f(*args, **kwds)\n",
      "C:\\Users\\Lenovo\\Anaconda3\\envs\\Unstructure_data\\lib\\importlib\\_bootstrap.py:219: RuntimeWarning: numpy.ufunc size changed, may indicate binary incompatibility. Expected 192 from C header, got 216 from PyObject\n",
      "  return f(*args, **kwds)\n"
     ]
    }
   ],
   "source": [
    "import pandas as pd\n",
    "from nltk.tokenize import word_tokenize\n",
    "from nltk.corpus import stopwords\n",
    "from string import punctuation\n",
    "\n",
    "sw_indo = stopwords.words(\"indonesian\") + list(punctuation)"
   ]
  },
  {
   "cell_type": "markdown",
   "id": "2fcfb558",
   "metadata": {},
   "source": [
    "## Import Data"
   ]
  },
  {
   "cell_type": "code",
   "execution_count": 2,
   "id": "60bca8af",
   "metadata": {},
   "outputs": [
    {
     "data": {
      "text/html": [
       "<div>\n",
       "<style scoped>\n",
       "    .dataframe tbody tr th:only-of-type {\n",
       "        vertical-align: middle;\n",
       "    }\n",
       "\n",
       "    .dataframe tbody tr th {\n",
       "        vertical-align: top;\n",
       "    }\n",
       "\n",
       "    .dataframe thead th {\n",
       "        text-align: right;\n",
       "    }\n",
       "</style>\n",
       "<table border=\"1\" class=\"dataframe\">\n",
       "  <thead>\n",
       "    <tr style=\"text-align: right;\">\n",
       "      <th></th>\n",
       "      <th>teks</th>\n",
       "    </tr>\n",
       "  </thead>\n",
       "  <tbody>\n",
       "    <tr>\n",
       "      <th>0</th>\n",
       "      <td>Ginandjar Tetap Ditahan. Jaksa Agung Dilaporka...</td>\n",
       "    </tr>\n",
       "    <tr>\n",
       "      <th>1</th>\n",
       "      <td>Jakarta Dikangkangi Para Preman\\nKALAU tak pun...</td>\n",
       "    </tr>\n",
       "    <tr>\n",
       "      <th>2</th>\n",
       "      <td>Penyimpangan di Setpres Seolah Terjadi Sekaran...</td>\n",
       "    </tr>\n",
       "    <tr>\n",
       "      <th>3</th>\n",
       "      <td>Dibayarkan, Rapel Kenaikan Gaji Pegawai Pos\\nK...</td>\n",
       "    </tr>\n",
       "    <tr>\n",
       "      <th>4</th>\n",
       "      <td>Stop Kekerasan, Elite agar Duduk Bersama\\nSeju...</td>\n",
       "    </tr>\n",
       "  </tbody>\n",
       "</table>\n",
       "</div>"
      ],
      "text/plain": [
       "                                                teks\n",
       "0  Ginandjar Tetap Ditahan. Jaksa Agung Dilaporka...\n",
       "1  Jakarta Dikangkangi Para Preman\\nKALAU tak pun...\n",
       "2  Penyimpangan di Setpres Seolah Terjadi Sekaran...\n",
       "3  Dibayarkan, Rapel Kenaikan Gaji Pegawai Pos\\nK...\n",
       "4  Stop Kekerasan, Elite agar Duduk Bersama\\nSeju..."
      ]
     },
     "execution_count": 2,
     "metadata": {},
     "output_type": "execute_result"
    }
   ],
   "source": [
    "df = pd.read_csv(\"data/kompas.csv\")\n",
    "df.head()"
   ]
  },
  {
   "cell_type": "code",
   "execution_count": 3,
   "id": "a553ee99",
   "metadata": {},
   "outputs": [],
   "source": [
    "from sklearn.feature_extraction.text import TfidfVectorizer"
   ]
  },
  {
   "cell_type": "code",
   "execution_count": 4,
   "id": "9846000b",
   "metadata": {},
   "outputs": [
    {
     "name": "stderr",
     "output_type": "stream",
     "text": [
      "C:\\Users\\Lenovo\\Anaconda3\\envs\\Unstructure_data\\lib\\site-packages\\sklearn\\feature_extraction\\text.py:385: UserWarning: Your stop_words may be inconsistent with your preprocessing. Tokenizing the stop words generated tokens ['``'] not in stop_words.\n",
      "  'stop_words.' % sorted(inconsistent))\n"
     ]
    }
   ],
   "source": [
    "tfidf = TfidfVectorizer(ngram_range=(1, 2), tokenizer=word_tokenize, stop_words=sw_indo)\n",
    "tfidf_matrix = tfidf.fit_transform(df.teks)"
   ]
  },
  {
   "cell_type": "markdown",
   "id": "09a2395f",
   "metadata": {},
   "source": [
    "## TFIDF Similarity => Document Similarity"
   ]
  },
  {
   "cell_type": "code",
   "execution_count": 5,
   "id": "aff78500",
   "metadata": {},
   "outputs": [],
   "source": [
    "from sklearn.metrics.pairwise import cosine_similarity"
   ]
  },
  {
   "cell_type": "code",
   "execution_count": 6,
   "id": "05a30615",
   "metadata": {},
   "outputs": [
    {
     "data": {
      "text/plain": [
       "array([[1.        , 0.00858328, 0.01060043, ..., 0.00856287, 0.00677808,\n",
       "        0.01513341]])"
      ]
     },
     "execution_count": 6,
     "metadata": {},
     "output_type": "execute_result"
    }
   ],
   "source": [
    "sim = cosine_similarity(tfidf_matrix[0], tfidf_matrix)\n",
    "sim"
   ]
  },
  {
   "cell_type": "code",
   "execution_count": 7,
   "id": "f637614f",
   "metadata": {},
   "outputs": [
    {
     "data": {
      "text/plain": [
       "array([[ 932, 1131, 1593, ...,  215,  144,    0]], dtype=int64)"
      ]
     },
     "execution_count": 7,
     "metadata": {},
     "output_type": "execute_result"
    }
   ],
   "source": [
    "sim.argsort()"
   ]
  },
  {
   "cell_type": "code",
   "execution_count": 8,
   "id": "e41230d8",
   "metadata": {},
   "outputs": [
    {
     "data": {
      "text/plain": [
       "'Ginandjar Tetap Ditahan. Jaksa Agung Dilaporkan ke Polri\\nKejaksaan Agung memutuskan untuk tetap menahan tersangka kasus korupsi, Ginandjar Kartasasmita, sampai batas waktu yang ditentukan KUHAP. Sedan'"
      ]
     },
     "execution_count": 8,
     "metadata": {},
     "output_type": "execute_result"
    }
   ],
   "source": [
    "df.teks[0][:200]"
   ]
  },
  {
   "cell_type": "code",
   "execution_count": 9,
   "id": "e4e3b683",
   "metadata": {},
   "outputs": [
    {
     "data": {
      "text/plain": [
       "'Kejaksaan Agung Terbitkan Surat Penahanan Baru\\nKejaksaan Agung (Kejagung) akhirnya menerbitkan surat perintah penahanan yang baru terhadap mantan Menteri Pertambangan dan Energi Ginandjar Kartasasmita'"
      ]
     },
     "execution_count": 9,
     "metadata": {},
     "output_type": "execute_result"
    }
   ],
   "source": [
    "df.teks[144][:200]"
   ]
  },
  {
   "cell_type": "code",
   "execution_count": 10,
   "id": "d0e693d5",
   "metadata": {},
   "outputs": [
    {
     "data": {
      "text/plain": [
       "'Pusat Pengolahan Ikan Asin Lhokseumawe Terbakar\\nPusat pengolahan ikan asin di kawasan Pasar Ikan Lhokseumawe (Aceh) terbakar bersama berton-ton stok ikan asin Sabtu (13/1) siang. Sedikitnya 25 gudang '"
      ]
     },
     "execution_count": 10,
     "metadata": {},
     "output_type": "execute_result"
    }
   ],
   "source": [
    "df.teks[932][:200]"
   ]
  },
  {
   "cell_type": "markdown",
   "id": "5f965bff",
   "metadata": {},
   "source": [
    "## Keyword Extraction"
   ]
  },
  {
   "cell_type": "code",
   "execution_count": 11,
   "id": "c97ba659",
   "metadata": {
    "scrolled": true
   },
   "outputs": [
    {
     "data": {
      "text/plain": [
       "['zuniga memilih',\n",
       " 'zunnatul',\n",
       " 'zunnatul mafruhah',\n",
       " 'zurich',\n",
       " 'zurich northholt',\n",
       " 'zw',\n",
       " 'zw suparman',\n",
       " 'zw tim',\n",
       " 'zx',\n",
       " 'zx diserbu']"
      ]
     },
     "execution_count": 11,
     "metadata": {},
     "output_type": "execute_result"
    }
   ],
   "source": [
    "vocab = tfidf.get_feature_names()\n",
    "vocab[-10:]"
   ]
  },
  {
   "cell_type": "code",
   "execution_count": 18,
   "id": "a291d846",
   "metadata": {
    "scrolled": true
   },
   "outputs": [
    {
     "data": {
      "text/plain": [
       "array([[274201, 365453, 365452, ..., 386361, 436633, 169209]], dtype=int64)"
      ]
     },
     "execution_count": 18,
     "metadata": {},
     "output_type": "execute_result"
    }
   ],
   "source": [
    "tfidf_matrix[0].toarray().argsort()"
   ]
  },
  {
   "cell_type": "code",
   "execution_count": 20,
   "id": "406267e8",
   "metadata": {},
   "outputs": [
    {
     "data": {
      "text/plain": [
       "'ginandjar'"
      ]
     },
     "execution_count": 20,
     "metadata": {},
     "output_type": "execute_result"
    }
   ],
   "source": [
    "vocab[169209]"
   ]
  },
  {
   "cell_type": "code",
   "execution_count": null,
   "id": "8bfd1e3e",
   "metadata": {},
   "outputs": [],
   "source": [
    "vocab"
   ]
  },
  {
   "cell_type": "code",
   "execution_count": 15,
   "id": "d6772516",
   "metadata": {},
   "outputs": [],
   "source": [
    "def extract_keywords_tfidf(doc, tfidf, topk=10):\n",
    "    matrix = tfidf.transform([doc])\n",
    "    vocab = tfidf.get_feature_names()\n",
    "    \n",
    "    sorted_tfidf = matrix[0].toarray()[0].argsort()\n",
    "    return [vocab[idx] for idx in reversed(sorted_tfidf[-topk:])]"
   ]
  },
  {
   "cell_type": "code",
   "execution_count": 24,
   "id": "f3f185c4",
   "metadata": {},
   "outputs": [
    {
     "data": {
      "text/plain": [
       "['ginandjar', 'putusan', 'penahanan', 'hukum ginandjar', 'kuasa hukum']"
      ]
     },
     "execution_count": 24,
     "metadata": {},
     "output_type": "execute_result"
    }
   ],
   "source": [
    "extract_keywords_tfidf(df.teks[0], tfidf, 5)"
   ]
  }
 ],
 "metadata": {
  "kernelspec": {
   "display_name": "Python 3",
   "language": "python",
   "name": "python3"
  },
  "language_info": {
   "codemirror_mode": {
    "name": "ipython",
    "version": 3
   },
   "file_extension": ".py",
   "mimetype": "text/x-python",
   "name": "python",
   "nbconvert_exporter": "python",
   "pygments_lexer": "ipython3",
   "version": "3.7.6"
  }
 },
 "nbformat": 4,
 "nbformat_minor": 5
}
